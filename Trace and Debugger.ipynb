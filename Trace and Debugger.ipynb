{
 "cells": [
  {
   "cell_type": "markdown",
   "id": "751418aa-0b4d-4b1e-9db5-9d7f8b8c7ff1",
   "metadata": {},
   "source": [
    "## Trace and Debugger"
   ]
  },
  {
   "cell_type": "markdown",
   "id": "ad10da1c-358b-4643-be45-6e07e9d81025",
   "metadata": {},
   "source": [
    "#### Different trace options"
   ]
  },
  {
   "cell_type": "code",
   "execution_count": 32,
   "id": "91f00bc6-0daf-4072-9fdc-e13c0276e065",
   "metadata": {},
   "outputs": [
    {
     "name": "stdout",
     "output_type": "stream",
     "text": [
      "Exception reporting mode: Context\n"
     ]
    }
   ],
   "source": [
    "%xmode verbose # most verbage\n",
    "# %xmode plain # least verbage\n",
    "# %xmode context # default verbage"
   ]
  },
  {
   "cell_type": "markdown",
   "id": "0af37638-2f27-46bf-bed8-e8d92037d490",
   "metadata": {},
   "source": [
    "Breakpoint = A certain point in the code. Pause the execution run at that point so that you can inspect the variables in the code. Marked by a red dot. Helps to identify what line of code the error is.\n",
    "\n",
    "Callstack = Shows the functions that you are in. Shows the function or procedure calls. Shows the execution flow.\n",
    "    Next = Go forward one line of code to see what happens.\n",
    "    Step In = Go inside the scope of a function to see what happens.\n",
    "    Step Out = Go outside the scope of a function."
   ]
  },
  {
   "cell_type": "markdown",
   "id": "a6a0c229-ef2d-4217-991f-66c676b23378",
   "metadata": {},
   "source": [
    "### Test debugger 1"
   ]
  },
  {
   "cell_type": "code",
   "execution_count": 26,
   "id": "df748669-8403-47ee-afc1-b57ff4c45e30",
   "metadata": {},
   "outputs": [],
   "source": [
    "def add(a,b):\n",
    "    res = a + b\n",
    "    return res"
   ]
  },
  {
   "cell_type": "code",
   "execution_count": 27,
   "id": "91e0c21e-664d-44cb-8760-92d3ea36458a",
   "metadata": {},
   "outputs": [
    {
     "name": "stdout",
     "output_type": "stream",
     "text": [
      "4\n"
     ]
    }
   ],
   "source": [
    "res = add(1,2)\n",
    "res += 1\n",
    "print(res)"
   ]
  },
  {
   "cell_type": "markdown",
   "id": "7e58e373-63bd-4332-991b-84683cefd3a3",
   "metadata": {},
   "source": [
    "### Test debugger 2"
   ]
  },
  {
   "cell_type": "code",
   "execution_count": 60,
   "id": "1f04d4b7-da46-4e23-a061-4ec590148cc9",
   "metadata": {},
   "outputs": [],
   "source": [
    "res = 0\n",
    "def divide(a,b):\n",
    "    res = a/b\n",
    "    return res"
   ]
  },
  {
   "cell_type": "code",
   "execution_count": 72,
   "id": "2d1575ca-4ec7-43a1-984a-9b302396d025",
   "metadata": {},
   "outputs": [
    {
     "ename": "ZeroDivisionError",
     "evalue": "division by zero",
     "output_type": "error",
     "traceback": [
      "\u001b[1;31m---------------------------------------------------------------------------\u001b[0m",
      "\u001b[1;31mZeroDivisionError\u001b[0m                         Traceback (most recent call last)",
      "Input \u001b[1;32mIn [72]\u001b[0m, in \u001b[0;36m<cell line: 1>\u001b[1;34m()\u001b[0m\n\u001b[1;32m----> 1\u001b[0m res \u001b[38;5;241m=\u001b[39m \u001b[43mdivide\u001b[49m\u001b[43m(\u001b[49m\u001b[38;5;241;43m1\u001b[39;49m\u001b[43m,\u001b[49m\u001b[38;5;241;43m0\u001b[39;49m\u001b[43m)\u001b[49m \u001b[38;5;66;03m# divide by 0 error\u001b[39;00m\n\u001b[0;32m      2\u001b[0m \u001b[38;5;28mprint\u001b[39m(rest)\n",
      "Input \u001b[1;32mIn [60]\u001b[0m, in \u001b[0;36mdivide\u001b[1;34m(a, b)\u001b[0m\n\u001b[0;32m      2\u001b[0m \u001b[38;5;28;01mdef\u001b[39;00m \u001b[38;5;21mdivide\u001b[39m(a,b):\n\u001b[1;32m----> 3\u001b[0m     res \u001b[38;5;241m=\u001b[39m \u001b[43ma\u001b[49m\u001b[38;5;241;43m/\u001b[39;49m\u001b[43mb\u001b[49m\n\u001b[0;32m      4\u001b[0m     \u001b[38;5;28;01mreturn\u001b[39;00m res\n",
      "\u001b[1;31mZeroDivisionError\u001b[0m: division by zero"
     ]
    }
   ],
   "source": [
    "res = divide(1,0) # divide by 0 error\n",
    "print(rest)"
   ]
  }
 ],
 "metadata": {
  "kernelspec": {
   "display_name": "Python 3 (ipykernel)",
   "language": "python",
   "name": "python3"
  },
  "language_info": {
   "codemirror_mode": {
    "name": "ipython",
    "version": 3
   },
   "file_extension": ".py",
   "mimetype": "text/x-python",
   "name": "python",
   "nbconvert_exporter": "python",
   "pygments_lexer": "ipython3",
   "version": "3.9.12"
  }
 },
 "nbformat": 4,
 "nbformat_minor": 5
}
